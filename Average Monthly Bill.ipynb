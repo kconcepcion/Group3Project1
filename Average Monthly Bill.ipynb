{
 "cells": [
  {
   "cell_type": "code",
   "execution_count": 9,
   "id": "322a4e8f",
   "metadata": {},
   "outputs": [],
   "source": [
    "import pandas as pd\n",
    "from matplotlib import pyplot as plt"
   ]
  },
  {
   "cell_type": "code",
   "execution_count": 10,
   "id": "bc941f17",
   "metadata": {},
   "outputs": [
    {
     "name": "stdout",
     "output_type": "stream",
     "text": [
      "   State            City   average monthly electricity bill ($)\n",
      "0  Texas           Dallas                                 184.0\n",
      "1  Texas          Houston                                 168.0\n",
      "2  Texas      San Antonio                                 189.0\n",
      "3  Texas  Chorpus Christi                                 178.0\n",
      "4  Texas          Lubbock                                 197.0\n"
     ]
    }
   ],
   "source": [
    "avg = pd.read_csv(\"average_monthly_bill.csv\")\n",
    "print(avg.head())\n"
   ]
  },
  {
   "cell_type": "code",
   "execution_count": 11,
   "id": "7c25651e",
   "metadata": {},
   "outputs": [],
   "source": [
    "states = [\"Texas\", \"Oklahoma\", \"New Mexico\"]\n",
    "avg_states_tex = []\n",
    "avg_states_okla = []\n",
    "avg_states_NM = []"
   ]
  },
  {
   "cell_type": "code",
   "execution_count": 16,
   "id": "1c0e307e",
   "metadata": {},
   "outputs": [
    {
     "name": "stdout",
     "output_type": "stream",
     "text": [
      "\n",
      "Texas:\n",
      "The lower quartile is: 178.0.\n",
      "The upper quartile is: 189.0.\n",
      "The interquartile range of is: 11.0.\n",
      "The median is: 185.0.\n",
      "Values below 161.5 could be outliers.\n",
      "Values above 205.5 could be outliers.\n",
      "\n",
      "Oklahoma:\n",
      "The lower quartile is: 149.0.\n",
      "The upper quartile is: 164.0.\n",
      "The interquartile range of is: 15.0.\n",
      "The median is: 159.5.\n",
      "Values below 126.5 could be outliers.\n",
      "Values above 186.5 could be outliers.\n",
      "The outliers are [113.0].\n",
      "The outliers are [113.0, 215.0].\n",
      "The outliers are [113.0, 215.0, 113.0].\n",
      "The outliers are [113.0, 215.0, 113.0, 215.0].\n",
      "\n",
      "New Mexico:\n",
      "The lower quartile is: 79.0.\n",
      "The upper quartile is: 138.0.\n",
      "The interquartile range of is: 59.0.\n",
      "The median is: 113.5.\n",
      "Values below -9.5 could be outliers.\n",
      "Values above 226.5 could be outliers.\n"
     ]
    }
   ],
   "source": [
    "# Create empty list to fill with tumor vol data (for plotting)\n",
    "for i in range(len(avg)-1):\n",
    "    if avg.loc[i, \"State\"] == \"Texas\":\n",
    "        avg_states_tex.append(avg.loc[i, \"average monthly electricity bill ($)\"])\n",
    "    if avg.loc[i, \"State\"] == \"Oklahoma\":\n",
    "        avg_states_okla.append(avg.loc[i, \"average monthly electricity bill ($)\"])\n",
    "    if avg.loc[i, \"State\"] == \"New Mexico\":\n",
    "        avg_states_NM.append(avg.loc[i, \"average monthly electricity bill ($)\"])\n",
    "average_States = [avg_states_tex, avg_states_okla, avg_states_NM]\n",
    "# Calculate the IQR and quantitatively determine if there are any potential outliers. \n",
    "outlier_list = []\n",
    "for i in range(len(average_States)):\n",
    "    quartiles = pd.Series(average_States[i]).quantile([.25,.5,.75])\n",
    "    lowerq = quartiles[0.25]\n",
    "    upperq = quartiles[0.75]\n",
    "    iqr = upperq-lowerq\n",
    "    print(f\"\\n{states[i]}:\")\n",
    "    print(f\"The lower quartile is: {lowerq}.\")\n",
    "    print(f\"The upper quartile is: {upperq}.\")\n",
    "    print(f\"The interquartile range of is: {iqr}.\")\n",
    "    print(f\"The median is: {quartiles[0.5]}.\")\n",
    "    lower_bound = lowerq - (1.5*iqr)\n",
    "    upper_bound = upperq + (1.5*iqr)\n",
    "    print(f\"Values below {lower_bound} could be outliers.\")\n",
    "    print(f\"Values above {upper_bound} could be outliers.\")\n",
    "    \n",
    "    # Locate the rows \n",
    "    # add subset \n",
    "    # Determine outliers using upper and lower bounds\n",
    "    for j in range(len(average_States[i])):\n",
    "        if (average_States[i][j] < lower_bound) or (average_States[i][j] > upper_bound):\n",
    "            outlier = average_States[i][j]\n",
    "            outlier_list.append(outlier)\n",
    "            print(f\"The outliers are {outlier_list}.\")\n",
    "\n"
   ]
  },
  {
   "cell_type": "code",
   "execution_count": 17,
   "id": "ccb8f2cd",
   "metadata": {},
   "outputs": [
    {
     "data": {
      "image/png": "[encoded data removed]",
      "text/plain": [
       "<Figure size 432x288 with 1 Axes>"
      ]
     },
     "metadata": {
      "needs_background": "light"
     },
     "output_type": "display_data"
    }
   ],
   "source": [
    "# Generate a box plot \n",
    "red_diamond = dict(markerfacecolor = \"r\", marker = \"D\")\n",
    "fig1, ax1 = plt.subplots()\n",
    "ax1.set_ylabel(\"Cost($)\")\n",
    "ax1.boxplot(average_States, flierprops = red_diamond)\n",
    "ax1.set_title(\"Average Monthly Electricity Bill\", fontsize = 14)\n",
    "ax1.set_xticklabels(states)\n",
    "plt.show()"
   ]
  },
  {
   "cell_type": "code",
   "execution_count": 18,
   "id": "818e276f",
   "metadata": {},
   "outputs": [
    {
     "data": {
      "text/plain": [
       "<Figure size 432x288 with 0 Axes>"
      ]
     },
     "metadata": {},
     "output_type": "display_data"
    }
   ],
   "source": [
    "plt.savefig(\"Boxplot_avg_monthly_electricity.png\")"
   ]
  },
  {
   "cell_type": "code",
   "execution_count": null,
   "id": "a04e5ba9",
   "metadata": {},
   "outputs": [],
   "source": []
  }
 ],
 "metadata": {
  "kernelspec": {
   "display_name": "PythonData",
   "language": "python",
   "name": "pythondata"
  },
  "language_info": {
   "codemirror_mode": {
    "name": "ipython",
    "version": 3
   },
   "file_extension": ".py",
   "mimetype": "text/x-python",
   "name": "python",
   "nbconvert_exporter": "python",
   "pygments_lexer": "ipython3",
   "version": "3.7.7"
  }
 },
 "nbformat": 4,
 "nbformat_minor": 5
}
